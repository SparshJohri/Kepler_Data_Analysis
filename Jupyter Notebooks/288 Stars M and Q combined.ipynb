{
 "cells": [
  {
   "cell_type": "code",
   "execution_count": 6,
   "metadata": {},
   "outputs": [
    {
     "name": "stdout",
     "output_type": "stream",
     "text": [
      " Volume in drive C is Windows\n",
      " Volume Serial Number is F414-35FC\n",
      "\n",
      " Directory of C:\\repos\\Kepler_Data_Analysis\\Jupyter Notebooks\n",
      "\n",
      "09/12/2019  09:04 PM    <DIR>          .\n",
      "09/12/2019  09:04 PM    <DIR>          ..\n",
      "09/12/2019  08:59 PM    <DIR>          .ipynb_checkpoints\n",
      "09/12/2019  06:32 PM            77,760 203382255.fits\n",
      "09/05/2019  07:32 PM            74,880 203725791.fits\n",
      "09/09/2019  09:17 AM            77,760 203770673.fits\n",
      "09/08/2019  11:20 AM            77,760 203794605.fits\n",
      "09/12/2019  08:56 PM            77,760 203954898.fits\n",
      "09/05/2019  07:45 PM            77,760 204342099.fits\n",
      "09/12/2019  06:48 PM            77,760 205156547.fits\n",
      "09/12/2019  06:34 PM            74,880 205164999.fits\n",
      "09/12/2019  09:04 PM             9,203 288 Stars M and Q combined.ipynb\n",
      "09/09/2019  09:12 AM             9,932 Plotting Lightcurves- v2.ipynb\n",
      "09/12/2019  09:01 PM             6,723 Plotting Lightcurves.ipynb\n",
      "              11 File(s)        642,178 bytes\n",
      "               3 Dir(s)  661,699,260,416 bytes free\n"
     ]
    }
   ],
   "source": [
    "!dir"
   ]
  },
  {
   "cell_type": "code",
   "execution_count": 33,
   "metadata": {},
   "outputs": [],
   "source": [
    "import pandas as pd\n",
    "import pathlib\n",
    "import os\n",
    "import matplotlib.pyplot as plt\n",
    "import statistics as st\n",
    "import scipy as sc\n",
    "from scipy import signal as sg \n"
   ]
  },
  {
   "cell_type": "code",
   "execution_count": 32,
   "metadata": {},
   "outputs": [],
   "source": [
    "path= '..\\\\'\n",
    "files = ['USco_yesdisks_flux_M_edited.csv','USco_yesdisks_Q_edited.csv']\n",
    "epics = []\n",
    "i=0\n",
    "for file in files:\n",
    "  epics.append( pd.read_csv(path+file,sep='\\s+'))\n",
    "\n",
    "epics_q_m = pd.merge(left=epics[0],right=epics[1], left_on='ID', right_on='ID')\n",
    "\n",
    "epics_q_m.sort_values(by=['Q','M','ID'], inplace=True, ascending=False)\n",
    "\n",
    "epics_q_m.to_csv(path+r'USco_yesdisks.csv')\n"
   ]
  }
 ],
 "metadata": {
  "kernelspec": {
   "display_name": "Python 3",
   "language": "python",
   "name": "python3"
  },
  "language_info": {
   "codemirror_mode": {
    "name": "ipython",
    "version": 3
   },
   "file_extension": ".py",
   "mimetype": "text/x-python",
   "name": "python",
   "nbconvert_exporter": "python",
   "pygments_lexer": "ipython3",
   "version": "3.7.3"
  }
 },
 "nbformat": 4,
 "nbformat_minor": 2
}
