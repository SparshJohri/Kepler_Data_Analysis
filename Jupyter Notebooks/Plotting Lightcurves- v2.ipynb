{
 "cells": [
  {
   "cell_type": "code",
   "execution_count": 1,
   "metadata": {},
   "outputs": [
    {
     "name": "stdout",
     "output_type": "stream",
     "text": [
      "Imports done.\n"
     ]
    }
   ],
   "source": [
    "import lightkurve as lk\n",
    "import pandas\n",
    "import pathlib\n",
    "import os\n",
    "import matplotlib.pyplot as plt\n",
    "import matplotlib.image as mpimg\n",
    "from ipywidgets import interact\n",
    "import ipywidgets as widget\n",
    "import pandas\n",
    "\n",
    "# Bokeh libraries\n",
    "from bokeh.io import output_file, output_notebook\n",
    "from bokeh.plotting import figure, show\n",
    "from bokeh.models import ColumnDataSource\n",
    "from bokeh.layouts import row, column, gridplot\n",
    "from bokeh.models.widgets import Tabs, Panel\n",
    "\n",
    "#from google.colab import files\n",
    "#%matplotlib qt5\n",
    "\n",
    "print(\"Imports done.\")"
   ]
  },
  {
   "cell_type": "code",
   "execution_count": 1,
   "metadata": {},
   "outputs": [
    {
     "name": "stdout",
     "output_type": "stream",
     "text": [
      "Functions defined.\n"
     ]
    }
   ],
   "source": [
    "import numpy as np\n",
    "def outlier_removal(lc, sigma_value):\n",
    "    lc = lc.remove_outliers(sigma = sigma_value)\n",
    "    return lc #removes outliers\n",
    "\n",
    "def plot_EPIC_ID(epic, bitmask, remove_outlier = True, sigma_value = 2.5):\n",
    "    pixelfile = lk.search_targetpixelfile(epic).download(quality_bitmask=bitmask) #gets the data about the EPIC ID\n",
    "    #fluxes = pixelfile.flux\n",
    "    #print(np.std(fluxes[154]))\n",
    "    #print(fluxes)\n",
    "    \n",
    "    #pixelfile.plot(frame = 128)\n",
    "    #pixelfile.plot(frame = 0)\n",
    "    fname = str(epic)+'.fits'\n",
    "               \n",
    "    lc = pixelfile.to_lightcurve(aperture_mask='all') #gets the light curve information\n",
    "    if remove_outlier == True:\n",
    "        lc = outlier_removal(lc, sigma_value) #calls the function that removes outliers\n",
    "        print(\"Outliers removed\")\n",
    "    else:\n",
    "        print(\"Outliers remain\")\n",
    "    lc.to_fits(path=fname, overwrite=True)\n",
    "    #files.download(fname)    \n",
    "    return lc, pixelfile #returns the light curve information\n",
    "def epic_plotter(targets, bitmask_qual, remove_outlier):\n",
    "    flux = []\n",
    "    time = []\n",
    "    \n",
    "    # gets the light curve information for the ith EPIC ID in targets\n",
    "    light_curve_info, pxfl = plot_EPIC_ID(targets, bitmask_qual, remove_outlier) \n",
    "    \n",
    "    \n",
    "    # gets the flux data about the ith EPIC ID, and adds it to the list of information \n",
    "    # about the fluxes of all the EPIC ID's\n",
    "    flux.append(light_curve_info.flux) \n",
    "    \n",
    "    # gets the time data about the ith EPIC ID, and adds it to the list of information \n",
    "    # about the times of all the EPIC ID's\n",
    "    time.append(light_curve_info.time) \n",
    "   \n",
    "    # creates a dataframe with the time and flux\n",
    "    data = pandas.DataFrame({\"Time\":time[-1], \"Flux\":flux[-1]}) \n",
    "    \n",
    "    # sets the time as the index for finding the flux\n",
    "    data.set_index(data.columns[0], inplace=True, drop = True) \n",
    "   \n",
    "    # gets the flux data about the EPIC ID\n",
    "    flux = list(data[\"Flux\"]) \n",
    "    \n",
    "    # gets the time information about the EPIC ID\n",
    "    time = list(data.index) \n",
    "    \n",
    "    \n",
    "    sz =[10,8]\n",
    "    scale=1.3\n",
    "    \n",
    "    # plots using matplotlib\n",
    "    plt.gcf().set_size_inches(sz[0]*1.2,sz[1]/2.6)\n",
    "    plt.plot(time, flux) \n",
    "    \n",
    "    \n",
    "    # light_curve_info.plot() #plots using the lightkurve.plot function\n",
    "    pxfl.interact()\n",
    "    \n",
    "    plt.show() \n",
    "    \n",
    "    #get cody graph from the paper\n",
    "    img = '.\\\\..\\\\cody_graphs\\\\' +str(targets) + '.png'\n",
    "    print(img)  \n",
    "    \n",
    "    plt.gcf().set_size_inches(sz[0]*scale,sz[1]*scale)\n",
    "    plt.imshow(mpimg.imread(img)) \n",
    "print(\"Functions defined.\")"
   ]
  },
  {
   "cell_type": "code",
   "execution_count": 2,
   "metadata": {},
   "outputs": [],
   "source": [
    "def bokeh_plot(targets, bitmask_qual='default', remove_outlier=False):\n",
    "    flux = []\n",
    "    time = []\n",
    "    \n",
    "    # gets the light curve information for the ith EPIC ID in targets\n",
    "    light_curve_info, pxfl = plot_EPIC_ID(targets, bitmask_qual, remove_outlier) \n",
    "    \n",
    "    print(pxfl.flux[10].shape)\n",
    "    print(pxfl.flux[10])\n",
    "    print()\n",
    "    print(pxfl.flux[1050])\n",
    "    \n",
    "    # gets the flux data about the ith EPIC ID, and adds it to the list of information \n",
    "    # about the fluxes of all the EPIC ID's\n",
    "    flux.append(light_curve_info.flux) \n",
    "    \n",
    "    # gets the time data about the ith EPIC ID, and adds it to the list of information \n",
    "    # about the times of all the EPIC ID's\n",
    "    time.append(light_curve_info.time) \n",
    "   \n",
    "    # creates a dataframe with the time and flux\n",
    "    data = pandas.DataFrame({\"Time\":time[-1], \"Flux\":flux[-1]}) \n",
    "    \n",
    "    # sets the time as the index for finding the flux\n",
    "    data.set_index(data.columns[0], inplace=True, drop = True) \n",
    "   \n",
    "    # gets the flux data about the EPIC ID\n",
    "    flux = list(data[\"Flux\"]) \n",
    "    \n",
    "    # gets the time information about the EPIC ID\n",
    "    time = list(data.index) \n",
    "    \n",
    "    output_notebook()  # Render inline in a Jupyter Notebook\n",
    "    # Set up the figure(s)\n",
    "    fig = figure(title='Bokeh flux curve',\n",
    "             plot_height=400, plot_width=800,\n",
    "             x_axis_label='Cadence', y_axis_label='Flux',\n",
    "             x_minor_ticks=2,\n",
    "             toolbar_location='right')\n",
    "\n",
    "    # Connect to and draw the data\n",
    "    fig.line(x=time, y=flux, \n",
    "         color='gray', line_width=1)\n",
    "    \n",
    "    # Organize the layout\n",
    "\n",
    "    # Preview and save \n",
    "    show(fig)  # See what I made, and save if I like it\n",
    "    \n",
    "    sz =[10,8]\n",
    "    scale=1.3\n",
    "    \n",
    "    \n",
    "    #get cody graph from the paper\n",
    "    img = '.\\\\..\\\\cody_graphs\\\\' +str(targets) + '.png'\n",
    "    print(img)  \n",
    "    \n",
    "    plt.gcf().set_size_inches(sz[0]*scale,sz[1]*scale)\n",
    "    #plt.imshow(mpimg.imread(img)) "
   ]
  },
  {
   "cell_type": "markdown",
   "metadata": {},
   "source": [
    "https://anaconda.org/datasciencepythonr/5-interactive-visualizations-with-bokeh/notebook\n",
    "https://realpython.com/python-data-visualization-bokeh/\n"
   ]
  },
  {
   "cell_type": "code",
   "execution_count": 3,
   "metadata": {},
   "outputs": [
    {
     "ename": "NameError",
     "evalue": "name 'pandas' is not defined",
     "output_type": "error",
     "traceback": [
      "\u001b[1;31m---------------------------------------------------------------------------\u001b[0m",
      "\u001b[1;31mNameError\u001b[0m                                 Traceback (most recent call last)",
      "\u001b[1;32m<ipython-input-3-52139259620d>\u001b[0m in \u001b[0;36m<module>\u001b[1;34m\u001b[0m\n\u001b[0;32m      1\u001b[0m \u001b[0mbase\u001b[0m \u001b[1;33m=\u001b[0m \u001b[1;34m'https://raw.githubusercontent.com/SparshJohri/Kepler_Data_Analysis/master/'\u001b[0m\u001b[1;33m\u001b[0m\u001b[1;33m\u001b[0m\u001b[0m\n\u001b[0;32m      2\u001b[0m \u001b[0mfile\u001b[0m \u001b[1;33m=\u001b[0m \u001b[1;34m'Campaign_2_EPICS.csv'\u001b[0m\u001b[1;33m\u001b[0m\u001b[1;33m\u001b[0m\u001b[0m\n\u001b[1;32m----> 3\u001b[1;33m \u001b[0mcampaign_epics\u001b[0m \u001b[1;33m=\u001b[0m \u001b[0mpandas\u001b[0m\u001b[1;33m.\u001b[0m\u001b[0mread_csv\u001b[0m\u001b[1;33m(\u001b[0m\u001b[0mbase\u001b[0m\u001b[1;33m+\u001b[0m\u001b[0mfile\u001b[0m\u001b[1;33m)\u001b[0m\u001b[1;33m\u001b[0m\u001b[1;33m\u001b[0m\u001b[0m\n\u001b[0m\u001b[0;32m      4\u001b[0m \u001b[1;33m\u001b[0m\u001b[0m\n\u001b[0;32m      5\u001b[0m \u001b[0mfile\u001b[0m \u001b[1;33m=\u001b[0m \u001b[1;34m\"CodyTable.csv\"\u001b[0m\u001b[1;33m\u001b[0m\u001b[1;33m\u001b[0m\u001b[0m\n",
      "\u001b[1;31mNameError\u001b[0m: name 'pandas' is not defined"
     ]
    }
   ],
   "source": [
    "base = 'https://raw.githubusercontent.com/SparshJohri/Kepler_Data_Analysis/master/'\n",
    "file = 'Campaign_2_EPICS.csv'\n",
    "campaign_epics = pandas.read_csv(base+file)\n",
    "\n",
    "file = \"CodyTable.csv\"\n",
    "campaign_epics = list(campaign_epics[campaign_epics.columns[0]])\n",
    "cody_epics = pandas.read_csv(base+file)\n",
    "\n",
    "cody_epics = list(cody_epics[cody_epics.columns[0]])\n",
    "\n",
    "\n",
    "target_list = cody_epics\n",
    "\n",
    "bokeh_plot(target_list[0])\n",
    "# interact(epic_plotter, targets = target_list, bitmask_qual = [\"default\",\"hard\", \"none\", \"hardest\"], \\\n",
    "#         remove_outlier = [True, False])"
   ]
  },
  {
   "cell_type": "code",
   "execution_count": null,
   "metadata": {},
   "outputs": [],
   "source": []
  }
 ],
 "metadata": {
  "kernelspec": {
   "display_name": "Python 3",
   "language": "python",
   "name": "python3"
  },
  "language_info": {
   "codemirror_mode": {
    "name": "ipython",
    "version": 3
   },
   "file_extension": ".py",
   "mimetype": "text/x-python",
   "name": "python",
   "nbconvert_exporter": "python",
   "pygments_lexer": "ipython3",
   "version": "3.7.3"
  }
 },
 "nbformat": 4,
 "nbformat_minor": 2
}
