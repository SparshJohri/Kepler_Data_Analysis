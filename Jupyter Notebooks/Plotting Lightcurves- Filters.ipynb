{
 "cells": [
  {
   "cell_type": "code",
   "execution_count": 17,
   "metadata": {},
   "outputs": [
    {
     "name": "stdout",
     "output_type": "stream",
     "text": [
      "Imports done.\n"
     ]
    }
   ],
   "source": [
    "import lightkurve as lk\n",
    "import pandas as pd\n",
    "import pathlib\n",
    "import os\n",
    "import matplotlib.pyplot as plt\n",
    "import matplotlib.image as mpimg\n",
    "from ipywidgets import interact\n",
    "import ipywidgets as widget\n",
    "\n",
    "import statistics as st\n",
    "import os.path\n",
    "from os import path\n",
    "\n",
    "from scipy import signal as sg\n",
    "from scipy.ndimage.filters import generic_filter\n",
    "\n",
    "#from google.colab import files\n",
    "#%matplotlib qt5\n",
    "\n",
    "print(\"Imports done.\")"
   ]
  },
  {
   "cell_type": "code",
   "execution_count": null,
   "metadata": {},
   "outputs": [],
   "source": [
    "import numpy as np\n",
    "def outlier_removal(lc, sigma_value):\n",
    "    lc = lc.remove_outliers(sigma = sigma_value)\n",
    "    return lc #removes outliers\n",
    "\n",
    "def plot_EPIC_ID(epic, bitmask, remove_outlier = True, sigma_value = 2.5):\n",
    "    pixelfile = lk.search_targetpixelfile(epic).download(quality_bitmask=bitmask) #gets the data about the EPIC ID\n",
    "    #fluxes = pixelfile.flux\n",
    "    #print(np.std(fluxes[154]))\n",
    "    #print(fluxes)\n",
    "    \n",
    "    #pixelfile.plot(frame = 128)\n",
    "    #pixelfile.plot(frame = 0)\n",
    "    fname = str(epic)+'.fits'\n",
    "               \n",
    "    lc = pixelfile.to_lightcurve(aperture_mask='all') #gets the light curve information\n",
    "    if remove_outlier == True:\n",
    "        lc = outlier_removal(lc, sigma_value) #calls the function that removes outliers\n",
    "        print(\"Outliers removed\")\n",
    "    else:\n",
    "        print(\"Outliers remain\")\n",
    "    lc.to_fits(path=fname, overwrite=True)\n",
    "    #files.download(fname)    \n",
    "    return lc, pixelfile #returns the light curve information"
   ]
  },
  {
   "cell_type": "code",
   "execution_count": 183,
   "metadata": {},
   "outputs": [
    {
     "name": "stdout",
     "output_type": "stream",
     "text": [
      "Functions defined.\n"
     ]
    }
   ],
   "source": [
    "def epic_plotter(targets, bitmask_qual, remove_outlier):\n",
    "    flux = []\n",
    "    time = []\n",
    "    flux_err = []\n",
    "    filt = []\n",
    "    \n",
    "    # gets the light curve information for the ith EPIC ID in targets\n",
    "    light_curve_info, pxfl = plot_EPIC_ID(targets, bitmask_qual, remove_outlier) \n",
    "    \n",
    "    \n",
    "    # gets the flux data about the ith EPIC ID, and adds it to the list of information \n",
    "    # about the fluxes of all the EPIC ID's\n",
    "    flux.append(light_curve_info.flux)\n",
    "    flux_err.append(light_curve_info.flux_err)\n",
    "    time.append(light_curve_info.time) \n",
    "    filt = pd.notnull(flux)\n",
    "    \n",
    "   \n",
    "   \n",
    "    # creates a dataframe with the time and flux and flux_err\n",
    "    data = pd.DataFrame({\"Time\":time[-1], 'Flux':flux[-1],'Flux_Err':flux_err[-1],'Filt':filt[-1]}) \n",
    "    flux_err = list(data['Flux_Err'])\n",
    "    flux_err_mean = st.mean(flux_err)\n",
    "    flux_err_limit = st.stdev(flux_err) * 3\n",
    "    \n",
    "    flux = list(data['Flux'])\n",
    "    flux_mean = st.mean(flux)\n",
    "    flux_sd = st.stdev(flux)\n",
    "    flux_median = st.median(flux)\n",
    "    flux_limit = flux_sd * 1\n",
    "    print('flux mean: ', flux_mean, ' med :', flux_median, ' sd :',flux_sd)\n",
    "   \n",
    "    \n",
    "    \n",
    "    # sets the time as the index for finding the flux\n",
    "    data.set_index(data.columns[0], inplace=True, drop = True) \n",
    "    \n",
    "    filt2 = abs(data['Flux_Err'] -  flux_err_mean) < flux_err_limit\n",
    "    filt3 = abs(data['Flux'] -  flux_mean) < flux_limit\n",
    "    \n",
    "    filt5 = data['Flux'] >  0\n",
    "    filt6 = data['Flux'] < 20*flux_median\n",
    "    \n",
    "    data['Filt'] = data['Filt']  & filt2 & filt3 & filt4 & filt5 & filt6\n",
    "    data.to_csv('out.csv',sep=',')\n",
    "    \n",
    "    data_fil = data[data['Filt']]\n",
    "    print(data.shape)\n",
    "    print(data_fil.shape)\n",
    "    print('data fil:',data_fil.head())\n",
    "    \n",
    "    flux = list(data_fil['Flux'] )\n",
    "    time = list(data_fil.index.values)\n",
    "    \n",
    "    total = len(flux)\n",
    "    start = 0\n",
    "    end = total\n",
    "    sz=55\n",
    "    #flux = generic_filter(flux, np.std, size=5)\n",
    "    #flux = sg.medfilt(flux,kernel_size=sz)\n",
    "    #flux = sg.wiener(flux,sz)\n",
    "    \n",
    "    data_fil['mod_flux'] = flux\n",
    "    \n",
    "    data_fil.to_csv('out2.csv',sep=',')\n",
    "    \n",
    "    sd = st.stdev(flux)\n",
    "    mean = st.mean(flux)\n",
    "    nSD=3\n",
    "    limit = nSD*sd\n",
    "    \n",
    "  \n",
    "    flux = flux[start:end]\n",
    "    median = st.median(flux)\n",
    "    for i in flux:\n",
    "       i = i/median\n",
    "    \n",
    "    \n",
    "    # gets the time information about the EPIC ID\n",
    "    #flux = list(data[data['Filt']] )\n",
    "    time = time[start:end]\n",
    "    \n",
    "    sz =[10,8]\n",
    "    scale=1.3\n",
    "    \n",
    "    # plots using matplotlib\n",
    "    #plt.gcf().set_size_inches(sz[0]*1.2,sz[1]/2.6)\n",
    "    plt.plot(time, flux) \n",
    "    \n",
    "    \n",
    "    # light_curve_info.plot() #plots using the lightkurve.plot function\n",
    "    pxfl.interact()\n",
    "    \n",
    "    plt.show() \n",
    "    \n",
    "    #get cody graph from the paper\n",
    "    img = '.\\\\..\\\\cody_graphs\\\\' +str(targets) + '.png'\n",
    "    print(img)  \n",
    "    \n",
    "    if path.exists(img):\n",
    "      plt.gcf().set_size_inches(sz[0]*scale,sz[1]*scale)\n",
    "      plt.imshow(mpimg.imread(img))\n",
    "    print('total points: ', total)\n",
    "    print('data pts: ', len(flux), 'Start: ', start, 'End: ', end)\n",
    "    print('Mean: ', st.mean(flux))\n",
    "    print('Median: ', st.median(flux))\n",
    "    print('SD: ', st.stdev(flux))\n",
    "\n",
    "print(\"Functions defined.\")"
   ]
  },
  {
   "cell_type": "code",
   "execution_count": 184,
   "metadata": {},
   "outputs": [
    {
     "data": {
      "application/vnd.jupyter.widget-view+json": {
       "model_id": "c027dbb61fdd4d5ea957612fcf2cbed1",
       "version_major": 2,
       "version_minor": 0
      },
      "text/plain": [
       "interactive(children=(Dropdown(description='targets', options=(203954898,), value=203954898), Dropdown(descrip…"
      ]
     },
     "metadata": {},
     "output_type": "display_data"
    },
    {
     "data": {
      "text/plain": [
       "<function __main__.epic_plotter(targets, bitmask_qual, remove_outlier)>"
      ]
     },
     "execution_count": 184,
     "metadata": {},
     "output_type": "execute_result"
    }
   ],
   "source": [
    "base = 'https://raw.githubusercontent.com/SparshJohri/Kepler_Data_Analysis/master/'\n",
    "file = 'Campaign_2_EPICS.csv'\n",
    "campaign_epics = pd.read_csv(base+file)\n",
    "\n",
    "\n",
    "file = \"CodyTable.csv\"\n",
    "campaign_epics = list(campaign_epics[campaign_epics.columns[0]])\n",
    "cody_epics = pd.read_csv(base+file)\n",
    "\n",
    "cody_epics = [203954898]#cody_epics[cody_epics.columns[0]])\n",
    "\n",
    "\n",
    "target_list = cody_epics\n",
    "#target_list.append('203770673')\n",
    "\n",
    "interact(epic_plotter, targets = target_list, bitmask_qual = [\"default\",\"hard\", \"none\", \"hardest\"], \\\n",
    "         remove_outlier = [False, True])"
   ]
  },
  {
   "cell_type": "code",
   "execution_count": null,
   "metadata": {},
   "outputs": [],
   "source": [
    " "
   ]
  }
 ],
 "metadata": {
  "kernelspec": {
   "display_name": "Python 3",
   "language": "python",
   "name": "python3"
  },
  "language_info": {
   "codemirror_mode": {
    "name": "ipython",
    "version": 3
   },
   "file_extension": ".py",
   "mimetype": "text/x-python",
   "name": "python",
   "nbconvert_exporter": "python",
   "pygments_lexer": "ipython3",
   "version": "3.7.3"
  }
 },
 "nbformat": 4,
 "nbformat_minor": 2
}
