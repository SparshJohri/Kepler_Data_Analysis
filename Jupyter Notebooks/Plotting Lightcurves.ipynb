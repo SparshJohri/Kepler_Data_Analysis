{
 "cells": [
  {
   "cell_type": "code",
   "execution_count": 1,
   "metadata": {},
   "outputs": [
    {
     "name": "stdout",
     "output_type": "stream",
     "text": [
      "Imports done.\n"
     ]
    }
   ],
   "source": [
    "import lightkurve as lk\n",
    "import pandas\n",
    "import pathlib\n",
    "import os\n",
    "import matplotlib.pyplot as plt\n",
    "import matplotlib.image as mpimg\n",
    "from ipywidgets import interact\n",
    "import ipywidgets as widget\n",
    "import pandas\n",
    "import statistics as st\n",
    "\n",
    "#from google.colab import files\n",
    "#%matplotlib qt5\n",
    "\n",
    "print(\"Imports done.\")"
   ]
  },
  {
   "cell_type": "code",
   "execution_count": 4,
   "metadata": {},
   "outputs": [
    {
     "name": "stdout",
     "output_type": "stream",
     "text": [
      "Functions defined.\n"
     ]
    }
   ],
   "source": [
    "import numpy as np\n",
    "def outlier_removal(lc, sigma_value):\n",
    "    lc = lc.remove_outliers(sigma = sigma_value)\n",
    "    return lc #removes outliers\n",
    "\n",
    "def plot_EPIC_ID(epic, bitmask, remove_outlier = True, sigma_value = 2.5):\n",
    "    pixelfile = lk.search_targetpixelfile(epic).download(quality_bitmask=bitmask) #gets the data about the EPIC ID\n",
    "    #fluxes = pixelfile.flux\n",
    "    #print(np.std(fluxes[154]))\n",
    "    #print(fluxes)\n",
    "    \n",
    "    #pixelfile.plot(frame = 128)\n",
    "    #pixelfile.plot(frame = 0)\n",
    "    fname = str(epic)+'.fits'\n",
    "               \n",
    "    lc = pixelfile.to_lightcurve(aperture_mask='all') #gets the light curve information\n",
    "    if remove_outlier == True:\n",
    "        lc = outlier_removal(lc, sigma_value) #calls the function that removes outliers\n",
    "        print(\"Outliers removed\")\n",
    "    else:\n",
    "        print(\"Outliers remain\")\n",
    "    lc.to_fits(path=fname, overwrite=True)\n",
    "    #files.download(fname)    \n",
    "    return lc, pixelfile #returns the light curve information\n",
    "def epic_plotter(targets, bitmask_qual, remove_outlier):\n",
    "    flux = []\n",
    "    time = []\n",
    "    \n",
    "    # gets the light curve information for the ith EPIC ID in targets\n",
    "    light_curve_info, pxfl = plot_EPIC_ID(targets, bitmask_qual, remove_outlier) \n",
    "    \n",
    "    \n",
    "    # gets the flux data about the ith EPIC ID, and adds it to the list of information \n",
    "    # about the fluxes of all the EPIC ID's\n",
    "    flux.append(light_curve_info.flux) \n",
    "    \n",
    "    # gets the time data about the ith EPIC ID, and adds it to the list of information \n",
    "    # about the times of all the EPIC ID's\n",
    "    time.append(light_curve_info.time) \n",
    "   \n",
    "    # creates a dataframe with the time and flux\n",
    "    data = pandas.DataFrame({\"Time\":time[-1], \"Flux\":flux[-1]}) \n",
    "    \n",
    "    # sets the time as the index for finding the flux\n",
    "    data.set_index(data.columns[0], inplace=True, drop = True) \n",
    "   \n",
    "\n",
    "    # gets the flux data about the EPIC ID\n",
    "    \n",
    "    \n",
    "    flux = list(data[\"Flux\"])\n",
    "    \n",
    "    total = len(flux)\n",
    "    start = 0\n",
    "    end = total\n",
    "    \n",
    "    flux = flux[start:end]\n",
    "    median = st.median(flux)\n",
    "    for i in flux:\n",
    "       i = i/median\n",
    "    \n",
    "    \n",
    "    # gets the time information about the EPIC ID\n",
    "    time = list(data.index) \n",
    "    time = time[start:end]\n",
    "    \n",
    "    sz =[10,8]\n",
    "    scale=1.3\n",
    "    \n",
    "    # plots using matplotlib\n",
    "    #plt.gcf().set_size_inches(sz[0]*1.2,sz[1]/2.6)\n",
    "    plt.plot(time, flux) \n",
    "    \n",
    "    \n",
    "    # light_curve_info.plot() #plots using the lightkurve.plot function\n",
    "    pxfl.interact()\n",
    "    \n",
    "    plt.show() \n",
    "    \n",
    "    #get cody graph from the paper\n",
    "    img = '.\\\\..\\\\cody_graphs\\\\' +str(targets) + '.png'\n",
    "    # print(img)  \n",
    "    \n",
    "    #plt.gcf().set_size_inches(sz[0]*scale,sz[1]*scale)\n",
    "    plt.imshow(mpimg.imread(img))\n",
    "    print('total points: ', total)\n",
    "    print('data pts: ', len(flux), 'Start: ', start, 'End: ', end)\n",
    "    print('Mean: ', st.mean(flux))\n",
    "    print('Median: ', st.median(flux))\n",
    "    print('Variance: ', st.variance(flux))\n",
    "\n",
    "print(\"Functions defined.\")"
   ]
  },
  {
   "cell_type": "code",
   "execution_count": 5,
   "metadata": {},
   "outputs": [
    {
     "data": {
      "application/vnd.jupyter.widget-view+json": {
       "model_id": "e780909ac9f4480b88b2a5631369c90c",
       "version_major": 2,
       "version_minor": 0
      },
      "text/plain": [
       "interactive(children=(Dropdown(description='targets', options=(203382255, 203725791, 203786695, 203789507, 203…"
      ]
     },
     "metadata": {},
     "output_type": "display_data"
    },
    {
     "data": {
      "text/plain": [
       "<function __main__.epic_plotter(targets, bitmask_qual, remove_outlier)>"
      ]
     },
     "execution_count": 5,
     "metadata": {},
     "output_type": "execute_result"
    }
   ],
   "source": [
    "base = 'https://raw.githubusercontent.com/SparshJohri/Kepler_Data_Analysis/master/'\n",
    "file = 'Campaign_2_EPICS.csv'\n",
    "campaign_epics = pandas.read_csv(base+file)\n",
    "\n",
    "file = \"CodyTable.csv\"\n",
    "campaign_epics = list(campaign_epics[campaign_epics.columns[0]])\n",
    "cody_epics = pandas.read_csv(base+file)\n",
    "\n",
    "cody_epics = list(cody_epics[cody_epics.columns[0]])\n",
    "\n",
    "\n",
    "target_list = cody_epics\n",
    "interact(epic_plotter, targets = target_list, bitmask_qual = [\"default\",\"hard\", \"none\", \"hardest\"], \\\n",
    "         remove_outlier = [False, True])"
   ]
  },
  {
   "cell_type": "code",
   "execution_count": null,
   "metadata": {},
   "outputs": [],
   "source": []
  }
 ],
 "metadata": {
  "kernelspec": {
   "display_name": "Python 3",
   "language": "python",
   "name": "python3"
  },
  "language_info": {
   "codemirror_mode": {
    "name": "ipython",
    "version": 3
   },
   "file_extension": ".py",
   "mimetype": "text/x-python",
   "name": "python",
   "nbconvert_exporter": "python",
   "pygments_lexer": "ipython3",
   "version": "3.7.3"
  }
 },
 "nbformat": 4,
 "nbformat_minor": 2
}
