{
 "cells": [
  {
   "cell_type": "code",
   "execution_count": 4,
   "metadata": {
    "scrolled": true
   },
   "outputs": [
    {
     "name": "stdout",
     "output_type": "stream",
     "text": [
      "Requirement already up-to-date: lightkurve in c:\\users\\bhata\\anaconda3\\lib\\site-packages (1.1.1)\n",
      "Requirement already satisfied, skipping upgrade: requests in c:\\users\\bhata\\anaconda3\\lib\\site-packages (from lightkurve) (2.21.0)\n",
      "Requirement already satisfied, skipping upgrade: oktopus in c:\\users\\bhata\\anaconda3\\lib\\site-packages (from lightkurve) (0.1.2)\n",
      "Requirement already satisfied, skipping upgrade: astroquery>=0.3.9 in c:\\users\\bhata\\anaconda3\\lib\\site-packages (from lightkurve) (0.3.9)\n",
      "Requirement already satisfied, skipping upgrade: tqdm in c:\\users\\bhata\\anaconda3\\lib\\site-packages (from lightkurve) (4.28.1)\n",
      "Requirement already satisfied, skipping upgrade: matplotlib>=1.5.3 in c:\\users\\bhata\\anaconda3\\lib\\site-packages (from lightkurve) (3.0.2)\n",
      "Requirement already satisfied, skipping upgrade: uncertainties in c:\\users\\bhata\\anaconda3\\lib\\site-packages (from lightkurve) (3.1.2)\n",
      "Requirement already satisfied, skipping upgrade: bs4 in c:\\users\\bhata\\anaconda3\\lib\\site-packages (from lightkurve) (0.0.1)\n",
      "Requirement already satisfied, skipping upgrade: scipy>=0.19.0 in c:\\users\\bhata\\anaconda3\\lib\\site-packages (from lightkurve) (1.1.0)\n",
      "Requirement already satisfied, skipping upgrade: numpy>=1.11 in c:\\users\\bhata\\anaconda3\\lib\\site-packages (from lightkurve) (1.15.4)\n",
      "Requirement already satisfied, skipping upgrade: astropy>=1.3 in c:\\users\\bhata\\anaconda3\\lib\\site-packages (from lightkurve) (3.1)\n",
      "Requirement already satisfied, skipping upgrade: pandas in c:\\users\\bhata\\anaconda3\\lib\\site-packages (from lightkurve) (0.23.4)\n",
      "Requirement already satisfied, skipping upgrade: chardet<3.1.0,>=3.0.2 in c:\\users\\bhata\\anaconda3\\lib\\site-packages (from requests->lightkurve) (3.0.4)\n",
      "Requirement already satisfied, skipping upgrade: idna<2.9,>=2.5 in c:\\users\\bhata\\anaconda3\\lib\\site-packages (from requests->lightkurve) (2.8)\n",
      "Requirement already satisfied, skipping upgrade: urllib3<1.25,>=1.21.1 in c:\\users\\bhata\\anaconda3\\lib\\site-packages (from requests->lightkurve) (1.24.1)\n",
      "Requirement already satisfied, skipping upgrade: certifi>=2017.4.17 in c:\\users\\bhata\\anaconda3\\lib\\site-packages (from requests->lightkurve) (2018.11.29)\n",
      "Requirement already satisfied, skipping upgrade: autograd in c:\\users\\bhata\\anaconda3\\lib\\site-packages (from oktopus->lightkurve) (1.2)\n",
      "Requirement already satisfied, skipping upgrade: keyring>=4.0 in c:\\users\\bhata\\anaconda3\\lib\\site-packages (from astroquery>=0.3.9->lightkurve) (17.0.0)\n",
      "Requirement already satisfied, skipping upgrade: beautifulsoup4>=4.3.2 in c:\\users\\bhata\\anaconda3\\lib\\site-packages (from astroquery>=0.3.9->lightkurve) (4.6.3)\n",
      "Requirement already satisfied, skipping upgrade: html5lib>=0.999 in c:\\users\\bhata\\anaconda3\\lib\\site-packages (from astroquery>=0.3.9->lightkurve) (1.0.1)\n",
      "Requirement already satisfied, skipping upgrade: cycler>=0.10 in c:\\users\\bhata\\anaconda3\\lib\\site-packages (from matplotlib>=1.5.3->lightkurve) (0.10.0)\n",
      "Requirement already satisfied, skipping upgrade: kiwisolver>=1.0.1 in c:\\users\\bhata\\anaconda3\\lib\\site-packages (from matplotlib>=1.5.3->lightkurve) (1.0.1)\n",
      "Requirement already satisfied, skipping upgrade: pyparsing!=2.0.4,!=2.1.2,!=2.1.6,>=2.0.1 in c:\\users\\bhata\\anaconda3\\lib\\site-packages (from matplotlib>=1.5.3->lightkurve) (2.3.0)\n",
      "Requirement already satisfied, skipping upgrade: python-dateutil>=2.1 in c:\\users\\bhata\\anaconda3\\lib\\site-packages (from matplotlib>=1.5.3->lightkurve) (2.7.5)\n",
      "Requirement already satisfied, skipping upgrade: pytz>=2011k in c:\\users\\bhata\\anaconda3\\lib\\site-packages (from pandas->lightkurve) (2018.7)\n",
      "Requirement already satisfied, skipping upgrade: future>=0.15.2 in c:\\users\\bhata\\anaconda3\\lib\\site-packages (from autograd->oktopus->lightkurve) (0.17.1)\n",
      "Requirement already satisfied, skipping upgrade: entrypoints in c:\\users\\bhata\\anaconda3\\lib\\site-packages (from keyring>=4.0->astroquery>=0.3.9->lightkurve) (0.2.3)\n",
      "Requirement already satisfied, skipping upgrade: pywin32 in c:\\users\\bhata\\anaconda3\\lib\\site-packages (from keyring>=4.0->astroquery>=0.3.9->lightkurve) (223)\n",
      "Requirement already satisfied, skipping upgrade: six>=1.9 in c:\\users\\bhata\\anaconda3\\lib\\site-packages (from html5lib>=0.999->astroquery>=0.3.9->lightkurve) (1.12.0)\n",
      "Requirement already satisfied, skipping upgrade: webencodings in c:\\users\\bhata\\anaconda3\\lib\\site-packages (from html5lib>=0.999->astroquery>=0.3.9->lightkurve) (0.5.1)\n",
      "Requirement already satisfied, skipping upgrade: setuptools in c:\\users\\bhata\\anaconda3\\lib\\site-packages (from kiwisolver>=1.0.1->matplotlib>=1.5.3->lightkurve) (40.6.3)\n"
     ]
    },
    {
     "name": "stderr",
     "output_type": "stream",
     "text": [
      "WARNING: You are using pip version 19.1.1, however version 19.2.3 is available.\n",
      "You should consider upgrading via the 'python -m pip install --upgrade pip' command.\n"
     ]
    },
    {
     "name": "stdout",
     "output_type": "stream",
     "text": [
      "Pip installed!\n"
     ]
    }
   ],
   "source": [
    "!pip install lightkurve --upgrade\n",
    "print(\"Pip installed!\")"
   ]
  },
  {
   "cell_type": "code",
   "execution_count": 5,
   "metadata": {},
   "outputs": [
    {
     "name": "stdout",
     "output_type": "stream",
     "text": [
      "Imports done.\n"
     ]
    }
   ],
   "source": [
    "import lightkurve as lk\n",
    "import pandas\n",
    "import pathlib\n",
    "import os\n",
    "import matplotlib.pyplot as plt\n",
    "#from google.colab import files\n",
    "\n",
    "print(\"Imports done.\")"
   ]
  },
  {
   "cell_type": "code",
   "execution_count": 54,
   "metadata": {},
   "outputs": [
    {
     "name": "stdout",
     "output_type": "stream",
     "text": [
      "Functions defined.\n"
     ]
    }
   ],
   "source": [
    "import numpy as np\n",
    "def outlier_removal(lc, sigma_value):\n",
    "    lc = lc.remove_outliers(sigma = sigma_value)\n",
    "    return lc #removes outliers\n",
    "\n",
    "def plot_EPIC_ID(epic, bitmask, remove_outlier = True, sigma_value = 5):\n",
    "    pixelfile = lk.search_targetpixelfile(epic).download(quality_bitmask=bitmask) #gets the data about the EPIC ID\n",
    "    #fluxes = pixelfile.flux\n",
    "    #print(np.std(fluxes[154]))\n",
    "    #print(fluxes)\n",
    "    \n",
    "    #pixelfile.plot(frame = 128)\n",
    "    #pixelfile.plot(frame = 0)\n",
    "    fname = str(epic)+'.fits'\n",
    "               \n",
    "    lc = pixelfile.to_lightcurve(aperture_mask='all') #gets the light curve information\n",
    "    if remove_outlier == True:\n",
    "        lc = outlier_removal(lc, sigma_value) #calls the function that removes outliers\n",
    "        print(\"Outliers removed\")\n",
    "    else:\n",
    "        print(\"Outliers remain\")\n",
    "    lc.to_fits(path=fname, overwrite=True)\n",
    "    #files.download(fname)    \n",
    "    return lc, pixelfile #returns the light curve information\n",
    "\n",
    "print(\"Functions defined.\")"
   ]
  },
  {
   "cell_type": "code",
   "execution_count": 59,
   "metadata": {
    "scrolled": true
   },
   "outputs": [
    {
     "data": {
      "application/vnd.jupyter.widget-view+json": {
       "model_id": "f7b1f976206e458f8246086ab8ce7ed3",
       "version_major": 2,
       "version_minor": 0
      },
      "text/plain": [
       "interactive(children=(Dropdown(description='targets', options=(203382255, 203725791, 203786695, 203789507, 203…"
      ]
     },
     "metadata": {},
     "output_type": "display_data"
    },
    {
     "data": {
      "text/plain": [
       "<function __main__.epic_plotter(targets, bitmask_qual, remove_outlier)>"
      ]
     },
     "execution_count": 59,
     "metadata": {},
     "output_type": "execute_result"
    }
   ],
   "source": [
    "from ipywidgets import interact\n",
    "import ipywidgets as widget\n",
    "import pandas\n",
    "\n",
    "\n",
    "campaign_epics = pandas.read_csv(\"https://raw.githubusercontent.com/SparshJohri/Kepler_Data_Analysis/master/Campaign_2_EPICS.csv\")\n",
    "campaign_epics = list(campaign_epics[campaign_epics.columns[0]])\n",
    "cody_epics = pandas.read_csv(\"https://raw.githubusercontent.com/SparshJohri/Kepler_Data_Analysis/master/CodyTable.csv\")\n",
    "cody_epics = list(cody_epics[cody_epics.columns[0]])\n",
    "\n",
    "def epic_plotter(targets, bitmask_qual, remove_outlier):\n",
    "    flux = []\n",
    "    time = []\n",
    "    light_curve_info, pxfl = plot_EPIC_ID(targets, bitmask_qual, remove_outlier) #gets the light curve information for the ith EPIC ID in targets\n",
    "    flux.append(light_curve_info.flux) #gets the flux data about the ith EPIC ID, and adds it to the list of information about the fluxes of all the EPIC ID's\n",
    "    time.append(light_curve_info.time) #gets the time data about the ith EPIC ID, and adds it to the list of information about the times of all the EPIC ID's\n",
    "    data = pandas.DataFrame({\"Time\":time[-1], \"Flux\":flux[-1]}) #creates a dataframe with the time and flux\n",
    "    data.set_index(data.columns[0], inplace=True, drop = True) #sets the time as the index for finding the flux\n",
    "\n",
    "    flux = list(data[\"Flux\"]) #gets the flux data about the EPIC ID\n",
    "    time = list(data.index) #gets the time information about the EPIC ID\n",
    "    plt.plot(time, flux) #plots using matplotlib\n",
    "    light_curve_info.plot() #plots using the lightkurve.plot function\n",
    "    pxfl.interact()\n",
    "    plt.show() #shows the plots\n",
    "\n",
    "target_list = cody_epics\n",
    "interact(epic_plotter, targets = target_list, bitmask_qual = [\"none\",\"default\", \"hard\", \"hardest\"], remove_outlier = [True, False])"
   ]
  }
 ],
 "metadata": {
  "kernelspec": {
   "display_name": "Python 3",
   "language": "python",
   "name": "python3"
  },
  "language_info": {
   "codemirror_mode": {
    "name": "ipython",
    "version": 3
   },
   "file_extension": ".py",
   "mimetype": "text/x-python",
   "name": "python",
   "nbconvert_exporter": "python",
   "pygments_lexer": "ipython3",
   "version": "3.7.1"
  }
 },
 "nbformat": 4,
 "nbformat_minor": 2
}
