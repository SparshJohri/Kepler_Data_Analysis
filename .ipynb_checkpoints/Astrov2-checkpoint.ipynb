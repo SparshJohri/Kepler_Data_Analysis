{
 "cells": [
  {
   "cell_type": "markdown",
   "metadata": {
    "colab_type": "text",
    "id": "e_rqgVOdharS"
   },
   "source": [
    "#The following program plots the graphs of EPIC ID's."
   ]
  },
  {
   "cell_type": "markdown",
   "metadata": {
    "colab_type": "text",
    "id": "QC4Bo8JNglG3"
   },
   "source": [
    "Run each cell by clicking the number in the top-left corner. You need to run the cells in the order they are presented. Once you have done so, you should see two graphs: one by the python matplotlib library (blue one on the top), and one by the lightkurve library (black one on the bottom). I have implemented a form of outlier removal. It removes values that are more than 5 sigma from the average of the data. Comment out the \"lc = outlier_removal(lc, sigma_value)\" line in the plot_EPIC_ID function in order to see how the graphs look with the outliers."
   ]
  },
  {
   "cell_type": "code",
   "execution_count": 0,
   "metadata": {
    "colab": {},
    "colab_type": "code",
    "id": "gMj7ii-qX2hN"
   },
   "outputs": [],
   "source": [
    "!pip install lightkurve --upgrade\n",
    "print(\"lightkurve installed!\")"
   ]
  },
  {
   "cell_type": "code",
   "execution_count": 1,
   "metadata": {
    "colab": {
     "base_uri": "https://localhost:8080/",
     "height": 374
    },
    "colab_type": "code",
    "id": "ZTZBu8lwZOpz",
    "outputId": "86aab63b-4fbc-4575-ccaa-bd0ac9512af1"
   },
   "outputs": [
    {
     "name": "stdout",
     "output_type": "stream",
     "text": [
      "Imports done.\n"
     ]
    }
   ],
   "source": [
    "import lightkurve as lk\n",
    "import pandas\n",
    "import pathlib\n",
    "import os\n",
    "import matplotlib.pyplot as plt\n",
    "import matplotlib.image as mpimg\n",
    "#from google.colab import files\n",
    "%matplotlib inline\n",
    "print(\"Imports done.\")"
   ]
  },
  {
   "cell_type": "code",
   "execution_count": 5,
   "metadata": {
    "colab": {},
    "colab_type": "code",
    "id": "XOJ9zGBGZSz9"
   },
   "outputs": [
    {
     "name": "stdout",
     "output_type": "stream",
     "text": [
      "Functions defined.\n"
     ]
    }
   ],
   "source": [
    "def outlier_removal(lc, sigma_value):\n",
    "    lc = lc.remove_outliers(sigma = sigma_value)\n",
    "    return lc #removes outliers\n",
    "\n",
    "def plot_EPIC_ID(epic, sigma_value = 5):\n",
    "    search = lk.search_targetpixelfile(epic, mission='K2')\n",
    "    print(search)\n",
    "    pixelfile = search.download(quality_bitmask='default' ) #gets the data about the EPIC ID\n",
    "    print('*********Quarter :' ,pixelfile.quarter, 'Mission : ',pixelfile.mission )\n",
    "    #pixelfile.interact(notebook_url='localhost:8893')\n",
    "    fname = str(epic)+'.fits'\n",
    "               \n",
    "    lc = pixelfile.to_lightcurve(aperture_mask='all') #gets the light curve information\n",
    "    lc = outlier_removal(lc, sigma_value) #calls the function that removes outliers\n",
    "    lc.to_fits(path=fname, overwrite=True)\n",
    "    # files.download(fname)    \n",
    "    return lc #returns the light curve information\n",
    "print(\"Functions defined.\")"
   ]
  },
  {
   "cell_type": "code",
   "execution_count": 12,
   "metadata": {
    "colab": {},
    "colab_type": "code",
    "id": "duAJY2moZ3ff"
   },
   "outputs": [
    {
     "name": "stderr",
     "output_type": "stream",
     "text": [
      "Warning: 203954898 may refer to a different K2 or TESS target. Please add the prefix 'EPIC' or 'TIC' to disambiguate.\n"
     ]
    },
    {
     "name": "stdout",
     "output_type": "stream",
     "text": [
      "SearchResult containing 1 data products.\n",
      "\n",
      " target_name           productFilename                        description              distance\n",
      "------------- ---------------------------------- ------------------------------------- --------\n",
      "ktwo203954898 ktwo203954898-c02_lpd-targ.fits.gz Target Pixel Long Cadence (KTL) - C02      0.0\n"
     ]
    },
    {
     "name": "stderr",
     "output_type": "stream",
     "text": [
      "Warning: 36% (1380/3856) of the cadences will be ignored due to the quality mask (quality_bitmask=1130799).\n"
     ]
    },
    {
     "name": "stdout",
     "output_type": "stream",
     "text": [
      "*********Quarter : None Mission :  K2\n",
      "EPIC ID:  203954898\n",
      "total number of points=  2401\n"
     ]
    },
    {
     "data": {
      "image/png": "[encoded data removed]",
      "text/plain": [
       "<Figure size 432x288 with 1 Axes>"
      ]
     },
     "metadata": {
      "needs_background": "light"
     },
     "output_type": "display_data"
    },
    {
     "name": "stdout",
     "output_type": "stream",
     "text": [
      ".\\cody_graphs\\203954898.png\n"
     ]
    },
    {
     "ename": "NameError",
     "evalue": "name 'mpimg' is not defined",
     "output_type": "error",
     "traceback": [
      "\u001b[1;31m---------------------------------------------------------------------------\u001b[0m",
      "\u001b[1;31mNameError\u001b[0m                                 Traceback (most recent call last)",
      "\u001b[1;32m<ipython-input-12-b08ef950b9dd>\u001b[0m in \u001b[0;36m<module>\u001b[1;34m\u001b[0m\n\u001b[0;32m     31\u001b[0m   \u001b[0mim\u001b[0m \u001b[1;33m=\u001b[0m \u001b[1;34m'.\\\\cody_graphs\\\\'\u001b[0m \u001b[1;33m+\u001b[0m\u001b[0mstr\u001b[0m\u001b[1;33m(\u001b[0m\u001b[0mtargets\u001b[0m\u001b[1;33m[\u001b[0m\u001b[0mi\u001b[0m\u001b[1;33m]\u001b[0m\u001b[1;33m)\u001b[0m \u001b[1;33m+\u001b[0m \u001b[1;34m'.png'\u001b[0m\u001b[1;33m\u001b[0m\u001b[1;33m\u001b[0m\u001b[0m\n\u001b[0;32m     32\u001b[0m   \u001b[0mprint\u001b[0m\u001b[1;33m(\u001b[0m\u001b[0mim\u001b[0m\u001b[1;33m)\u001b[0m\u001b[1;33m\u001b[0m\u001b[1;33m\u001b[0m\u001b[0m\n\u001b[1;32m---> 33\u001b[1;33m   \u001b[0mplt\u001b[0m\u001b[1;33m.\u001b[0m\u001b[0mimshow\u001b[0m\u001b[1;33m(\u001b[0m\u001b[0mmpimg\u001b[0m\u001b[1;33m.\u001b[0m\u001b[0mimread\u001b[0m\u001b[1;33m(\u001b[0m\u001b[0mimg\u001b[0m\u001b[1;33m)\u001b[0m\u001b[1;33m)\u001b[0m\u001b[1;33m\u001b[0m\u001b[1;33m\u001b[0m\u001b[0m\n\u001b[0m\u001b[0;32m     34\u001b[0m   \u001b[0mplt\u001b[0m\u001b[1;33m.\u001b[0m\u001b[0mshow\u001b[0m\u001b[1;33m(\u001b[0m\u001b[1;33m)\u001b[0m\u001b[1;33m\u001b[0m\u001b[1;33m\u001b[0m\u001b[0m\n",
      "\u001b[1;31mNameError\u001b[0m: name 'mpimg' is not defined"
     ]
    }
   ],
   "source": [
    "targets = [203954898] #Enter your EPIC ID's here 203954898 204342099 203928175\n",
    "flux = []\n",
    "time = []\n",
    "err=[]\n",
    "dataset1 = list()\n",
    "\n",
    "for i in targets:\n",
    "    light_curve_info = plot_EPIC_ID(i) #gets the light curve information for the ith EPIC ID in targets   \n",
    "    flux.append(light_curve_info.flux) #gets the flux data about the ith EPIC ID, and adds it to the list of information about the fluxes of all the EPIC ID's\n",
    "    time.append(light_curve_info.time) #gets the time data about the ith EPIC ID, and adds it to the list of information about the times of all the EPIC ID's\n",
    "    err.append(light_curve_info.flux_err)\n",
    "    data = pandas.DataFrame({\"Time\":time[-1], \"Flux\":flux[-1], \"Err\":err[-1]}) #creates a dataframe with the time and flux\n",
    "    data.set_index(data.columns[0], inplace=True, drop = True) #sets the time as the index for finding the flux\n",
    "    dataset1.append(data) #appends the data into a Series that will contain the data of every single EPIC ID\n",
    "    fname = str(i)+'.csv'\n",
    "    data.to_csv(fname)\n",
    "    # files.download(fname) \n",
    "    \n",
    "dataset = pandas.Series(dataset1, index = targets) #sets the EPIC ID as the index for finding the flux data over time\n",
    "\n",
    "for i in range(len(targets)):\n",
    "  print(\"EPIC ID: \", targets[i]) #prints the EPIc ID\n",
    "  flux = list(dataset.iloc[i][\"Flux\"]) #gets the flux data about the EPIC ID\n",
    "  time = list(dataset.iloc[i].index) #gets the time information about the EPIC ID\n",
    "  print('total number of points= ',len(time))\n",
    "  \n",
    "  plt.plot(time, flux) #plots using matplotlib\n",
    "  # light_curve_info.plot() #plots using the lightkurve.plot function\n",
    "  plt.show() #shows the plots\n",
    "    \n",
    "  im = '.\\\\cody_graphs\\\\' +str(targets[i]) + '.png'\n",
    "  print(im)\n",
    "  plt.imshow(mpimg.imread(img))\n",
    "  plt.show()"
   ]
  },
  {
   "cell_type": "markdown",
   "metadata": {
    "colab_type": "text",
    "id": "ty1s2rFKga-H"
   },
   "source": [
    "Is there a reason why the two graphs (matplotlib and lightkurve.plot) are different? Why do their shapes match up?\n",
    "They are both graphing the same thing, but the y-axes have different scales.\n",
    "The flux values match up with the top graph\n",
    "but the plotting function provided by lightkuve (bottom) must have some reason for changing the scales.\n",
    "Could the bottom graph be related to the z-score of the data?\n",
    "I think that the bottom is the normalized flux, and the top is the regular flux (even though it too is labelled as normalized)"
   ]
  }
 ],
 "metadata": {
  "colab": {
   "collapsed_sections": [],
   "name": "Astrov2.ipynb",
   "provenance": [],
   "version": "0.3.2"
  },
  "kernelspec": {
   "display_name": "Python 3",
   "language": "python",
   "name": "python3"
  },
  "language_info": {
   "codemirror_mode": {
    "name": "ipython",
    "version": 3
   },
   "file_extension": ".py",
   "mimetype": "text/x-python",
   "name": "python",
   "nbconvert_exporter": "python",
   "pygments_lexer": "ipython3",
   "version": "3.7.3"
  }
 },
 "nbformat": 4,
 "nbformat_minor": 1
}
