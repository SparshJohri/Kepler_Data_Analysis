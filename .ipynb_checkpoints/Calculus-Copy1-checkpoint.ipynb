{
 "cells": [
  {
   "cell_type": "code",
   "execution_count": 77,
   "metadata": {},
   "outputs": [
    {
     "name": "stdout",
     "output_type": "stream",
     "text": [
      "-0.5    4.0\n",
      "-0.49    4.164931278633903\n",
      "-0.48    4.340277777777778\n",
      "-0.47    4.526935264825713\n",
      "-0.45999999999999996    4.725897920604916\n"
     ]
    },
    {
     "data": {
      "text/plain": [
       "<matplotlib.collections.PathCollection at 0x1c35ffe57f0>"
      ]
     },
     "execution_count": 77,
     "metadata": {},
     "output_type": "execute_result"
    },
    {
     "data": {
      "image/png": "[encoded data removed]",
      "text/plain": [
       "<Figure size 432x288 with 1 Axes>"
      ]
     },
     "metadata": {
      "needs_background": "light"
     },
     "output_type": "display_data"
    }
   ],
   "source": [
    "import numpy as np\n",
    "import matplotlib.pyplot as plt\n",
    "\n",
    "def y1(x):\n",
    "    return (x-4)/((x**2-12)**0.5 - 4)\n",
    "def y2(x):\n",
    "    return 1/x**2\n",
    "\n",
    "y=y2\n",
    "\n",
    "if y == y1:\n",
    "    plot_range = 0.5\n",
    "    limit = 4\n",
    "    delta= 0.01\n",
    "    inc=0.01\n",
    "    \n",
    "elif y == y2:\n",
    "    plot_range = 0.5\n",
    "    limit = 0\n",
    "    delta= 0.1/3\n",
    "    inc=0.01\n",
    "\n",
    "left = np.arange(limit-plot_range,limit-delta,inc)\n",
    "right = np.arange(limit+delta,limit+plot_range,inc)\n",
    "\n",
    "yleft =[]\n",
    "for x in left:\n",
    "  yleft.append(y(x))  \n",
    "\n",
    "for i in range(5):\n",
    "    print(left[i],'  ',yleft[i])\n",
    "\n",
    "yright =[]\n",
    "for x in right:\n",
    "  yright.append(y(x))  \n",
    "\n",
    "plt.grid()\n",
    "plt.scatter(left,yleft,color='red',s=0.3)\n",
    "plt.scatter(right,yright,color='blue',s=0.3)\n",
    "\n",
    " \n",
    "\n"
   ]
  },
  {
   "cell_type": "code",
   "execution_count": 58,
   "metadata": {},
   "outputs": [
    {
     "ename": "TypeError",
     "evalue": "__new__() missing 1 required positional argument: 'name'",
     "output_type": "error",
     "traceback": [
      "\u001b[1;31m---------------------------------------------------------------------------\u001b[0m",
      "\u001b[1;31mTypeError\u001b[0m                                 Traceback (most recent call last)",
      "\u001b[1;32m<ipython-input-58-cc4ad1f1b35a>\u001b[0m in \u001b[0;36m<module>\u001b[1;34m\u001b[0m\n\u001b[0;32m      2\u001b[0m \u001b[0msympy\u001b[0m\u001b[1;33m.\u001b[0m\u001b[0minit_printing\u001b[0m\u001b[1;33m(\u001b[0m\u001b[1;33m)\u001b[0m\u001b[1;33m\u001b[0m\u001b[1;33m\u001b[0m\u001b[0m\n\u001b[0;32m      3\u001b[0m \u001b[0mx\u001b[0m \u001b[1;33m=\u001b[0m \u001b[0msympy\u001b[0m\u001b[1;33m.\u001b[0m\u001b[0mSymbol\u001b[0m\u001b[1;33m(\u001b[0m\u001b[1;34m'x'\u001b[0m\u001b[1;33m)\u001b[0m\u001b[1;33m\u001b[0m\u001b[1;33m\u001b[0m\u001b[0m\n\u001b[1;32m----> 4\u001b[1;33m \u001b[0my\u001b[0m \u001b[1;33m=\u001b[0m \u001b[0msympy\u001b[0m\u001b[1;33m.\u001b[0m\u001b[0mSymbol\u001b[0m\u001b[1;33m(\u001b[0m\u001b[1;33m)\u001b[0m\u001b[1;33m\u001b[0m\u001b[1;33m\u001b[0m\u001b[0m\n\u001b[0m",
      "\u001b[1;31mTypeError\u001b[0m: __new__() missing 1 required positional argument: 'name'"
     ]
    }
   ],
   "source": [
    "import sympy\n",
    "sympy.init_printing()\n",
    "x = sympy.Symbol('x')\n",
    "y = sympy.Symbol()"
   ]
  },
  {
   "cell_type": "code",
   "execution_count": null,
   "metadata": {},
   "outputs": [],
   "source": []
  },
  {
   "cell_type": "code",
   "execution_count": null,
   "metadata": {},
   "outputs": [],
   "source": []
  }
 ],
 "metadata": {
  "kernelspec": {
   "display_name": "Python 3",
   "language": "python",
   "name": "python3"
  },
  "language_info": {
   "codemirror_mode": {
    "name": "ipython",
    "version": 3
   },
   "file_extension": ".py",
   "mimetype": "text/x-python",
   "name": "python",
   "nbconvert_exporter": "python",
   "pygments_lexer": "ipython3",
   "version": "3.7.3"
  }
 },
 "nbformat": 4,
 "nbformat_minor": 2
}
