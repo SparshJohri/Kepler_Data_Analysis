{
 "cells": [
  {
   "cell_type": "markdown",
   "metadata": {
    "colab_type": "text",
    "id": "e_rqgVOdharS"
   },
   "source": [
    "#The following program plots the graphs of EPIC ID's."
   ]
  },
  {
   "cell_type": "markdown",
   "metadata": {
    "colab_type": "text",
    "id": "QC4Bo8JNglG3"
   },
   "source": [
    "Run each cell by clicking the number in the top-left corner. You need to run the cells in the order they are presented. Once you have done so, you should see two graphs: one by the python matplotlib library (blue one on the top), and one by the lightkurve library (black one on the bottom). I have implemented a form of outlier removal. It removes values that are more than 5 sigma from the average of the data. Comment out the \"lc = outlier_removal(lc, sigma_value)\" line in the plot_EPIC_ID function in order to see how the graphs look with the outliers."
   ]
  },
  {
   "cell_type": "code",
   "execution_count": 1,
   "metadata": {
    "colab": {},
    "colab_type": "code",
    "id": "gMj7ii-qX2hN"
   },
   "outputs": [
    {
     "name": "stdout",
     "output_type": "stream",
     "text": [
      "Requirement already up-to-date: lightkurve in c:\\users\\lokes\\anaconda3\\lib\\site-packages (1.1.1)\n",
      "Requirement already satisfied, skipping upgrade: oktopus in c:\\users\\lokes\\anaconda3\\lib\\site-packages (from lightkurve) (0.1.2)\n",
      "Requirement already satisfied, skipping upgrade: matplotlib>=1.5.3 in c:\\users\\lokes\\anaconda3\\lib\\site-packages (from lightkurve) (3.1.1)\n",
      "Requirement already satisfied, skipping upgrade: astroquery>=0.3.9 in c:\\users\\lokes\\anaconda3\\lib\\site-packages (from lightkurve) (0.3.9)\n",
      "Requirement already satisfied, skipping upgrade: requests in c:\\users\\lokes\\anaconda3\\lib\\site-packages (from lightkurve) (2.21.0)\n",
      "Requirement already satisfied, skipping upgrade: uncertainties in c:\\users\\lokes\\anaconda3\\lib\\site-packages (from lightkurve) (3.1.1)\n",
      "Requirement already satisfied, skipping upgrade: tqdm in c:\\users\\lokes\\anaconda3\\lib\\site-packages (from lightkurve) (4.31.1)\n",
      "Requirement already satisfied, skipping upgrade: numpy>=1.11 in c:\\users\\lokes\\anaconda3\\lib\\site-packages (from lightkurve) (1.17.0)\n",
      "Requirement already satisfied, skipping upgrade: pandas in c:\\users\\lokes\\anaconda3\\lib\\site-packages (from lightkurve) (0.24.2)\n",
      "Requirement already satisfied, skipping upgrade: astropy>=1.3 in c:\\users\\lokes\\anaconda3\\lib\\site-packages (from lightkurve) (3.1.2)\n",
      "Requirement already satisfied, skipping upgrade: bs4 in c:\\users\\lokes\\anaconda3\\lib\\site-packages (from lightkurve) (0.0.1)\n",
      "Requirement already satisfied, skipping upgrade: scipy>=0.19.0 in c:\\users\\lokes\\anaconda3\\lib\\site-packages (from lightkurve) (1.3.0)\n",
      "Requirement already satisfied, skipping upgrade: autograd in c:\\users\\lokes\\anaconda3\\lib\\site-packages (from oktopus->lightkurve) (1.2)\n",
      "Requirement already satisfied, skipping upgrade: pyparsing!=2.0.4,!=2.1.2,!=2.1.6,>=2.0.1 in c:\\users\\lokes\\anaconda3\\lib\\site-packages (from matplotlib>=1.5.3->lightkurve) (2.3.1)\n",
      "Requirement already satisfied, skipping upgrade: python-dateutil>=2.1 in c:\\users\\lokes\\anaconda3\\lib\\site-packages (from matplotlib>=1.5.3->lightkurve) (2.8.0)\n",
      "Requirement already satisfied, skipping upgrade: kiwisolver>=1.0.1 in c:\\users\\lokes\\anaconda3\\lib\\site-packages (from matplotlib>=1.5.3->lightkurve) (1.0.1)\n",
      "Requirement already satisfied, skipping upgrade: cycler>=0.10 in c:\\users\\lokes\\anaconda3\\lib\\site-packages (from matplotlib>=1.5.3->lightkurve) (0.10.0)\n",
      "Requirement already satisfied, skipping upgrade: keyring>=4.0 in c:\\users\\lokes\\anaconda3\\lib\\site-packages (from astroquery>=0.3.9->lightkurve) (18.0.0)\n",
      "Requirement already satisfied, skipping upgrade: beautifulsoup4>=4.3.2 in c:\\users\\lokes\\anaconda3\\lib\\site-packages (from astroquery>=0.3.9->lightkurve) (4.7.1)\n",
      "Requirement already satisfied, skipping upgrade: html5lib>=0.999 in c:\\users\\lokes\\anaconda3\\lib\\site-packages (from astroquery>=0.3.9->lightkurve) (1.0.1)\n",
      "Requirement already satisfied, skipping upgrade: idna<2.9,>=2.5 in c:\\users\\lokes\\anaconda3\\lib\\site-packages (from requests->lightkurve) (2.8)\n",
      "Requirement already satisfied, skipping upgrade: urllib3<1.25,>=1.21.1 in c:\\users\\lokes\\anaconda3\\lib\\site-packages (from requests->lightkurve) (1.24.1)\n",
      "Requirement already satisfied, skipping upgrade: chardet<3.1.0,>=3.0.2 in c:\\users\\lokes\\anaconda3\\lib\\site-packages (from requests->lightkurve) (3.0.4)\n",
      "Requirement already satisfied, skipping upgrade: certifi>=2017.4.17 in c:\\users\\lokes\\anaconda3\\lib\\site-packages (from requests->lightkurve) (2019.6.16)\n",
      "Requirement already satisfied, skipping upgrade: pytz>=2011k in c:\\users\\lokes\\anaconda3\\lib\\site-packages (from pandas->lightkurve) (2018.9)\n",
      "Requirement already satisfied, skipping upgrade: future>=0.15.2 in c:\\users\\lokes\\anaconda3\\lib\\site-packages (from autograd->oktopus->lightkurve) (0.17.1)\n",
      "Requirement already satisfied, skipping upgrade: six>=1.5 in c:\\users\\lokes\\anaconda3\\lib\\site-packages (from python-dateutil>=2.1->matplotlib>=1.5.3->lightkurve) (1.12.0)\n",
      "Requirement already satisfied, skipping upgrade: setuptools in c:\\users\\lokes\\anaconda3\\lib\\site-packages (from kiwisolver>=1.0.1->matplotlib>=1.5.3->lightkurve) (40.8.0)\n",
      "Requirement already satisfied, skipping upgrade: entrypoints in c:\\users\\lokes\\anaconda3\\lib\\site-packages (from keyring>=4.0->astroquery>=0.3.9->lightkurve) (0.3)\n",
      "Requirement already satisfied, skipping upgrade: pywin32; sys_platform == \"win32\" in c:\\users\\lokes\\anaconda3\\lib\\site-packages (from keyring>=4.0->astroquery>=0.3.9->lightkurve) (223)\n",
      "Requirement already satisfied, skipping upgrade: soupsieve>=1.2 in c:\\users\\lokes\\anaconda3\\lib\\site-packages (from beautifulsoup4>=4.3.2->astroquery>=0.3.9->lightkurve) (1.8)\n",
      "Requirement already satisfied, skipping upgrade: webencodings in c:\\users\\lokes\\anaconda3\\lib\\site-packages (from html5lib>=0.999->astroquery>=0.3.9->lightkurve) (0.5.1)\n",
      "lightkurve installed!\n"
     ]
    }
   ],
   "source": [
    "!pip install lightkurve --upgrade\n",
    "print(\"lightkurve installed!\")"
   ]
  },
  {
   "cell_type": "code",
   "execution_count": 2,
   "metadata": {
    "colab": {
     "base_uri": "https://localhost:8080/",
     "height": 374
    },
    "colab_type": "code",
    "id": "ZTZBu8lwZOpz",
    "outputId": "86aab63b-4fbc-4575-ccaa-bd0ac9512af1"
   },
   "outputs": [
    {
     "name": "stdout",
     "output_type": "stream",
     "text": [
      "Imports done.\n"
     ]
    }
   ],
   "source": [
    "import lightkurve as lk\n",
    "import pandas\n",
    "import pathlib\n",
    "import os\n",
    "import sys\n",
    "import matplotlib.pyplot as plt\n",
    "import matplotlib.image as mpimg\n",
    "\n",
    "#from google.colab import files\n",
    "%matplotlib inline\n",
    "print(\"Imports done.\")"
   ]
  },
  {
   "cell_type": "code",
   "execution_count": 5,
   "metadata": {},
   "outputs": [],
   "source": [
    "%pwd\n",
    "from pypms import hello\n"
   ]
  },
  {
   "cell_type": "code",
   "execution_count": 6,
   "metadata": {
    "colab": {},
    "colab_type": "code",
    "id": "XOJ9zGBGZSz9"
   },
   "outputs": [
    {
     "name": "stdout",
     "output_type": "stream",
     "text": [
      "Functions defined.\n"
     ]
    }
   ],
   "source": [
    "def outlier_removal(lc, sigma_value):\n",
    "    lc = lc.remove_outliers(sigma = sigma_value)\n",
    "    return lc #removes outliers\n",
    "\n",
    "def plot_EPIC_ID(epic, sigma_value = 5):\n",
    "    search = lk.search_targetpixelfile(epic, mission='K2')\n",
    "    print(search)\n",
    "    pixelfile = search.download(quality_bitmask='hard' ) #gets the data about the EPIC ID\n",
    "    print('*********Quarter :' ,pixelfile.quarter, 'Mission : ',pixelfile.mission )\n",
    "    #pixelfile.interact(notebook_url='localhost:8893')\n",
    "    fname = str(epic)+'.fits'\n",
    "               \n",
    "    lc = pixelfile.to_lightcurve(aperture_mask='all') #gets the light curve information\n",
    "    lc = outlier_removal(lc, sigma_value) #calls the function that removes outliers\n",
    "    lc.to_fits(path=fname, overwrite=True)\n",
    "    # files.download(fname)    \n",
    "    return lc #returns the light curve information\n",
    "print(\"Functions defined.\")"
   ]
  },
  {
   "cell_type": "code",
   "execution_count": null,
   "metadata": {
    "colab": {},
    "colab_type": "code",
    "id": "duAJY2moZ3ff"
   },
   "outputs": [],
   "source": [
    "targets = [203954898] #Enter your EPIC ID's here 203954898 204342099 203928175\n",
    "flux = []\n",
    "time = []\n",
    "err=[]\n",
    "dataset1 = list()\n",
    "\n",
    "for i in targets:\n",
    "    light_curve_info = plot_EPIC_ID(i) #gets the light curve information for the ith EPIC ID in targets   \n",
    "    flux.append(light_curve_info.flux) #gets the flux data about the ith EPIC ID, and adds it to the list of information about the fluxes of all the EPIC ID's\n",
    "    time.append(light_curve_info.time) #gets the time data about the ith EPIC ID, and adds it to the list of information about the times of all the EPIC ID's\n",
    "    err.append(light_curve_info.flux_err)\n",
    "    data = pandas.DataFrame({\"Time\":time[-1], \"Flux\":flux[-1], \"Err\":err[-1]}) #creates a dataframe with the time and flux\n",
    "    data.set_index(data.columns[0], inplace=True, drop = True) #sets the time as the index for finding the flux\n",
    "    dataset1.append(data) #appends the data into a Series that will contain the data of every single EPIC ID\n",
    "    fname = str(i)+'.csv'\n",
    "    data.to_csv(fname)\n",
    "    # files.download(fname) \n",
    "    \n",
    "dataset = pandas.Series(dataset1, index = targets) #sets the EPIC ID as the index for finding the flux data over time\n",
    "\n",
    "sz =[10,8]\n",
    "scale=1.3\n",
    "\n",
    "for i in range(len(targets)):\n",
    "  print(\"EPIC ID: \", targets[i]) #prints the EPIc ID\n",
    "  flux = list(dataset.iloc[i][\"Flux\"]) #gets the flux data about the EPIC ID\n",
    "  time = list(dataset.iloc[i].index) #gets the time information about the EPIC ID\n",
    "  print('total number of points= ',len(time))\n",
    "  \n",
    "  plt.gcf().set_size_inches(sz[0]*1.2,sz[1]/2.6)\n",
    "  plt.plot(time, flux) #plots using matplotlib\n",
    "  # light_curve_info.plot() #plots using the lightkurve.plot function\n",
    "  plt.show() #shows the plots\n",
    "    \n",
    "  img = '.\\\\cody_graphs\\\\' +str(targets[i]) + '.png'\n",
    "  \n",
    "  plt.gcf().set_size_inches(sz[0]*scale,sz[1]*scale)\n",
    "  plt.imshow(mpimg.imread(img))\n",
    "  plt.show()"
   ]
  },
  {
   "cell_type": "markdown",
   "metadata": {
    "colab_type": "text",
    "id": "ty1s2rFKga-H"
   },
   "source": [
    "Is there a reason why the two graphs (matplotlib and lightkurve.plot) are different? Why do their shapes match up?\n",
    "They are both graphing the same thing, but the y-axes have different scales.\n",
    "The flux values match up with the top graph\n",
    "but the plotting function provided by lightkuve (bottom) must have some reason for changing the scales.\n",
    "Could the bottom graph be related to the z-score of the data?\n",
    "I think that the bottom is the normalized flux, and the top is the regular flux (even though it too is labelled as normalized)"
   ]
  }
 ],
 "metadata": {
  "colab": {
   "collapsed_sections": [],
   "name": "Astrov2.ipynb",
   "provenance": [],
   "version": "0.3.2"
  },
  "kernelspec": {
   "display_name": "Python 3",
   "language": "python",
   "name": "python3"
  },
  "language_info": {
   "codemirror_mode": {
    "name": "ipython",
    "version": 3
   },
   "file_extension": ".py",
   "mimetype": "text/x-python",
   "name": "python",
   "nbconvert_exporter": "python",
   "pygments_lexer": "ipython3",
   "version": "3.7.3"
  }
 },
 "nbformat": 4,
 "nbformat_minor": 1
}
