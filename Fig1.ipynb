{
  "nbformat": 4,
  "nbformat_minor": 0,
  "metadata": {
    "colab": {
      "name": "Fig1.ipynb",
      "version": "0.3.2",
      "provenance": [],
      "collapsed_sections": []
    },
    "kernelspec": {
      "name": "python3",
      "display_name": "Python 3"
    }
  },
  "cells": [
    {
      "cell_type": "code",
      "metadata": {
        "id": "1EJH7faZsKG5",
        "colab_type": "code",
        "colab": {
          "base_uri": "https://localhost:8080/",
          "height": 728
        },
        "outputId": "28f5cf8b-706e-4de5-a589-6c49d2182257"
      },
      "source": [
        "!pip install lightkurve --upgrade\n",
        "print(\"lightkurve installed!\")\n",
        "!pip install pycodestyle pycodestyle_magic\n",
        "%load_ext pycodestyle_magic\n"
      ],
      "execution_count": 28,
      "outputs": [
        {
          "output_type": "stream",
          "text": [
            "Requirement already up-to-date: lightkurve in /usr/local/lib/python3.6/dist-packages (1.1.1)\n",
            "Requirement already satisfied, skipping upgrade: pandas in /usr/local/lib/python3.6/dist-packages (from lightkurve) (0.24.2)\n",
            "Requirement already satisfied, skipping upgrade: astroquery>=0.3.9 in /usr/local/lib/python3.6/dist-packages (from lightkurve) (0.3.9)\n",
            "Requirement already satisfied, skipping upgrade: matplotlib>=1.5.3 in /usr/local/lib/python3.6/dist-packages (from lightkurve) (3.0.3)\n",
            "Requirement already satisfied, skipping upgrade: astropy>=1.3 in /usr/local/lib/python3.6/dist-packages (from lightkurve) (3.0.5)\n",
            "Requirement already satisfied, skipping upgrade: oktopus in /usr/local/lib/python3.6/dist-packages (from lightkurve) (0.1.2)\n",
            "Requirement already satisfied, skipping upgrade: scipy>=0.19.0 in /usr/local/lib/python3.6/dist-packages (from lightkurve) (1.3.1)\n",
            "Requirement already satisfied, skipping upgrade: numpy>=1.11 in /usr/local/lib/python3.6/dist-packages (from lightkurve) (1.16.4)\n",
            "Requirement already satisfied, skipping upgrade: uncertainties in /usr/local/lib/python3.6/dist-packages (from lightkurve) (3.1.2)\n",
            "Requirement already satisfied, skipping upgrade: requests in /usr/local/lib/python3.6/dist-packages (from lightkurve) (2.21.0)\n",
            "Requirement already satisfied, skipping upgrade: bs4 in /usr/local/lib/python3.6/dist-packages (from lightkurve) (0.0.1)\n",
            "Requirement already satisfied, skipping upgrade: tqdm in /usr/local/lib/python3.6/dist-packages (from lightkurve) (4.28.1)\n",
            "Requirement already satisfied, skipping upgrade: python-dateutil>=2.5.0 in /usr/local/lib/python3.6/dist-packages (from pandas->lightkurve) (2.5.3)\n",
            "Requirement already satisfied, skipping upgrade: pytz>=2011k in /usr/local/lib/python3.6/dist-packages (from pandas->lightkurve) (2018.9)\n",
            "Requirement already satisfied, skipping upgrade: html5lib>=0.999 in /usr/local/lib/python3.6/dist-packages (from astroquery>=0.3.9->lightkurve) (1.0.1)\n",
            "Requirement already satisfied, skipping upgrade: keyring>=4.0 in /usr/local/lib/python3.6/dist-packages (from astroquery>=0.3.9->lightkurve) (19.1.0)\n",
            "Requirement already satisfied, skipping upgrade: beautifulsoup4>=4.3.2 in /usr/local/lib/python3.6/dist-packages (from astroquery>=0.3.9->lightkurve) (4.6.3)\n",
            "Requirement already satisfied, skipping upgrade: cycler>=0.10 in /usr/local/lib/python3.6/dist-packages (from matplotlib>=1.5.3->lightkurve) (0.10.0)\n",
            "Requirement already satisfied, skipping upgrade: kiwisolver>=1.0.1 in /usr/local/lib/python3.6/dist-packages (from matplotlib>=1.5.3->lightkurve) (1.1.0)\n",
            "Requirement already satisfied, skipping upgrade: pyparsing!=2.0.4,!=2.1.2,!=2.1.6,>=2.0.1 in /usr/local/lib/python3.6/dist-packages (from matplotlib>=1.5.3->lightkurve) (2.4.2)\n",
            "Requirement already satisfied, skipping upgrade: autograd in /usr/local/lib/python3.6/dist-packages (from oktopus->lightkurve) (1.3)\n",
            "Requirement already satisfied, skipping upgrade: urllib3<1.25,>=1.21.1 in /usr/local/lib/python3.6/dist-packages (from requests->lightkurve) (1.24.3)\n",
            "Requirement already satisfied, skipping upgrade: idna<2.9,>=2.5 in /usr/local/lib/python3.6/dist-packages (from requests->lightkurve) (2.8)\n",
            "Requirement already satisfied, skipping upgrade: chardet<3.1.0,>=3.0.2 in /usr/local/lib/python3.6/dist-packages (from requests->lightkurve) (3.0.4)\n",
            "Requirement already satisfied, skipping upgrade: certifi>=2017.4.17 in /usr/local/lib/python3.6/dist-packages (from requests->lightkurve) (2019.6.16)\n",
            "Requirement already satisfied, skipping upgrade: six>=1.5 in /usr/local/lib/python3.6/dist-packages (from python-dateutil>=2.5.0->pandas->lightkurve) (1.12.0)\n",
            "Requirement already satisfied, skipping upgrade: webencodings in /usr/local/lib/python3.6/dist-packages (from html5lib>=0.999->astroquery>=0.3.9->lightkurve) (0.5.1)\n",
            "Requirement already satisfied, skipping upgrade: entrypoints in /usr/local/lib/python3.6/dist-packages (from keyring>=4.0->astroquery>=0.3.9->lightkurve) (0.3)\n",
            "Requirement already satisfied, skipping upgrade: secretstorage; sys_platform == \"linux\" in /usr/local/lib/python3.6/dist-packages (from keyring>=4.0->astroquery>=0.3.9->lightkurve) (3.1.1)\n",
            "Requirement already satisfied, skipping upgrade: setuptools in /usr/local/lib/python3.6/dist-packages (from kiwisolver>=1.0.1->matplotlib>=1.5.3->lightkurve) (41.2.0)\n",
            "Requirement already satisfied, skipping upgrade: future>=0.15.2 in /usr/local/lib/python3.6/dist-packages (from autograd->oktopus->lightkurve) (0.16.0)\n",
            "Requirement already satisfied, skipping upgrade: cryptography in /usr/local/lib/python3.6/dist-packages (from secretstorage; sys_platform == \"linux\"->keyring>=4.0->astroquery>=0.3.9->lightkurve) (2.7)\n",
            "Requirement already satisfied, skipping upgrade: jeepney in /usr/local/lib/python3.6/dist-packages (from secretstorage; sys_platform == \"linux\"->keyring>=4.0->astroquery>=0.3.9->lightkurve) (0.4.1)\n",
            "Requirement already satisfied, skipping upgrade: cffi!=1.11.3,>=1.8 in /usr/local/lib/python3.6/dist-packages (from cryptography->secretstorage; sys_platform == \"linux\"->keyring>=4.0->astroquery>=0.3.9->lightkurve) (1.12.3)\n",
            "Requirement already satisfied, skipping upgrade: asn1crypto>=0.21.0 in /usr/local/lib/python3.6/dist-packages (from cryptography->secretstorage; sys_platform == \"linux\"->keyring>=4.0->astroquery>=0.3.9->lightkurve) (0.24.0)\n",
            "Requirement already satisfied, skipping upgrade: pycparser in /usr/local/lib/python3.6/dist-packages (from cffi!=1.11.3,>=1.8->cryptography->secretstorage; sys_platform == \"linux\"->keyring>=4.0->astroquery>=0.3.9->lightkurve) (2.19)\n",
            "lightkurve installed!\n",
            "Requirement already satisfied: pycodestyle in /usr/local/lib/python3.6/dist-packages (2.5.0)\n",
            "Requirement already satisfied: pycodestyle_magic in /usr/local/lib/python3.6/dist-packages (0.2.5)\n",
            "The pycodestyle_magic extension is already loaded. To reload it, use:\n",
            "  %reload_ext pycodestyle_magic\n"
          ],
          "name": "stdout"
        }
      ]
    },
    {
      "cell_type": "code",
      "metadata": {
        "id": "tsi1uO9zsT2z",
        "colab_type": "code",
        "colab": {
          "base_uri": "https://localhost:8080/",
          "height": 35
        },
        "outputId": "312bafcf-e486-4e39-8dca-694f3211a6e2"
      },
      "source": [
        "import lightkurve as lk\n",
        "import pandas as pd\n",
        "import pathlib\n",
        "import os\n",
        "import matplotlib.pyplot as plt\n",
        "import logging\n",
        "from google.colab import files\n",
        "%matplotlib inline\n",
        "print(\"Imports done.\")"
      ],
      "execution_count": 51,
      "outputs": [
        {
          "output_type": "stream",
          "text": [
            "Imports done.\n"
          ],
          "name": "stdout"
        }
      ]
    },
    {
      "cell_type": "code",
      "metadata": {
        "id": "5-fwISJcs5ss",
        "colab_type": "code",
        "colab": {
          "base_uri": "https://localhost:8080/",
          "height": 295
        },
        "outputId": "ba89c821-186c-49b9-9f4e-bfbb141de6c5"
      },
      "source": [
        "# %%flake8\n",
        "\n",
        "logging.basicConfig(format='%(asctime)s %(message)s') \n",
        "logging.disabled = True\n",
        "\n",
        " \n",
        "\n",
        "\n",
        "# raw file in the repo has one or more space separartion between the entries\n",
        "base = 'https://raw.githubusercontent.com/SparshJohri/'\n",
        "base += 'Kepler_Data_Analysis/master/'\n",
        "M_file = base + 'USco_yesdisks_flux_M_edited.dat'\n",
        "Q_file = base + 'USco_yesdisks_Q_edited.dat'\n",
        "\n",
        "M = pd.read_csv(M_file, sep=r'\\s+')\n",
        "Q = pd.read_csv(Q_file, sep=r'\\s+')\n",
        "\n",
        " \n",
        "logging.info(M.info())\n",
        "logging.info(Q.info())\n",
        " \n",
        "\n",
        "M_series = M['M']\n",
        "Q_series = Q['Q']\n",
        "\n",
        "'''\n",
        "plt.scatter(Q_series, M_series)\n",
        "plt.title('Cody Paper Fig 1')\n",
        "plt.xlabel('Q')\n",
        "plt.ylabel('X')\n",
        "plt.show()\n",
        "'''"
      ],
      "execution_count": 67,
      "outputs": [
        {
          "output_type": "stream",
          "text": [
            "<class 'pandas.core.frame.DataFrame'>\n",
            "RangeIndex: 288 entries, 0 to 287\n",
            "Data columns (total 2 columns):\n",
            "ID    288 non-null int64\n",
            "M     288 non-null float64\n",
            "dtypes: float64(1), int64(1)\n",
            "memory usage: 4.6 KB\n",
            "<class 'pandas.core.frame.DataFrame'>\n",
            "RangeIndex: 288 entries, 0 to 287\n",
            "Data columns (total 3 columns):\n",
            "ID    288 non-null int64\n",
            "P     288 non-null float64\n",
            "Q     288 non-null float64\n",
            "dtypes: float64(2), int64(1)\n",
            "memory usage: 6.8 KB\n"
          ],
          "name": "stdout"
        },
        {
          "output_type": "execute_result",
          "data": {
            "text/plain": [
              "\"\\nplt.scatter(Q_series, M_series)\\nplt.title('Cody Paper Fig 1')\\nplt.xlabel('Q')\\nplt.ylabel('X')\\nplt.show()\\n\""
            ]
          },
          "metadata": {
            "tags": []
          },
          "execution_count": 67
        }
      ]
    }
  ]
}